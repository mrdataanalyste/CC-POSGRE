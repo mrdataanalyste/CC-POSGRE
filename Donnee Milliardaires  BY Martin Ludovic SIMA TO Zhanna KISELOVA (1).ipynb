{
 "cells": [
  {
   "cell_type": "markdown",
   "id": "053715bd",
   "metadata": {},
   "source": [
    "#    Analyse de données milliardaire programmée par Martin Ludovic SIMA pour Mme Zhanna KISELOVA\n",
    "\n"
   ]
  },
  {
   "cell_type": "code",
   "execution_count": 10,
   "id": "5f1b861a",
   "metadata": {},
   "outputs": [],
   "source": [
    "import pandas as pd\n",
    "\n",
    "import seaborn as sns\n",
    "\n",
    "import re\n"
   ]
  },
  {
   "cell_type": "code",
   "execution_count": 11,
   "id": "8bc6b547",
   "metadata": {},
   "outputs": [],
   "source": [
    "from dateutil.relativedelta import relativedelta\n"
   ]
  },
  {
   "cell_type": "code",
   "execution_count": 12,
   "id": "072c0146",
   "metadata": {},
   "outputs": [],
   "source": [
    "import numpy as np"
   ]
  },
  {
   "cell_type": "code",
   "execution_count": null,
   "id": "940e8e27",
   "metadata": {},
   "outputs": [],
   "source": [
    "#creer un dataframe"
   ]
  },
  {
   "cell_type": "code",
   "execution_count": 13,
   "id": "8ffac817",
   "metadata": {},
   "outputs": [],
   "source": [
    "dataset = pd.read_excel('donnee_milliardaires.xlsx',sheet_name ='Sauvegarde')"
   ]
  },
  {
   "cell_type": "code",
   "execution_count": 14,
   "id": "19557692",
   "metadata": {},
   "outputs": [
    {
     "data": {
      "text/html": [
       "<div>\n",
       "<style scoped>\n",
       "    .dataframe tbody tr th:only-of-type {\n",
       "        vertical-align: middle;\n",
       "    }\n",
       "\n",
       "    .dataframe tbody tr th {\n",
       "        vertical-align: top;\n",
       "    }\n",
       "\n",
       "    .dataframe thead th {\n",
       "        text-align: right;\n",
       "    }\n",
       "</style>\n",
       "<table border=\"1\" class=\"dataframe\">\n",
       "  <thead>\n",
       "    <tr style=\"text-align: right;\">\n",
       "      <th></th>\n",
       "      <th>rang</th>\n",
       "      <th>categorie</th>\n",
       "      <th>prenomNom</th>\n",
       "      <th>pays</th>\n",
       "      <th>ville</th>\n",
       "      <th>source</th>\n",
       "      <th>domaine</th>\n",
       "      <th>luiMeme</th>\n",
       "      <th>genre</th>\n",
       "      <th>nom</th>\n",
       "      <th>...</th>\n",
       "      <th>revenuFinal</th>\n",
       "      <th>anneeNaissance</th>\n",
       "      <th>moisNaissance</th>\n",
       "      <th>jourNaissance</th>\n",
       "      <th>cpi_pays</th>\n",
       "      <th>pib_pays</th>\n",
       "      <th>esperance_ de_vie_pays</th>\n",
       "      <th>tax_revenue_pays</th>\n",
       "      <th>total_taux_imposition_pays</th>\n",
       "      <th>population_pays</th>\n",
       "    </tr>\n",
       "  </thead>\n",
       "  <tbody>\n",
       "    <tr>\n",
       "      <th>0</th>\n",
       "      <td>1</td>\n",
       "      <td>Mode &amp; Commerce</td>\n",
       "      <td>Bernard Arnault &amp; family</td>\n",
       "      <td>France</td>\n",
       "      <td>Paris</td>\n",
       "      <td>LVMH</td>\n",
       "      <td>Fashion &amp; Retail</td>\n",
       "      <td>False</td>\n",
       "      <td>H</td>\n",
       "      <td>Arnault</td>\n",
       "      <td>...</td>\n",
       "      <td>211000</td>\n",
       "      <td>1949</td>\n",
       "      <td>3</td>\n",
       "      <td>5</td>\n",
       "      <td>110.05</td>\n",
       "      <td>$2,715,518,274,227</td>\n",
       "      <td>82.5</td>\n",
       "      <td>24.2</td>\n",
       "      <td>60.7</td>\n",
       "      <td>67059887</td>\n",
       "    </tr>\n",
       "    <tr>\n",
       "      <th>1</th>\n",
       "      <td>2</td>\n",
       "      <td>Automobile</td>\n",
       "      <td>Elon Musk</td>\n",
       "      <td>États-Unis</td>\n",
       "      <td>Austin</td>\n",
       "      <td>Tesla, SpaceX</td>\n",
       "      <td>Automotive</td>\n",
       "      <td>True</td>\n",
       "      <td>H</td>\n",
       "      <td>Musk</td>\n",
       "      <td>...</td>\n",
       "      <td>180000</td>\n",
       "      <td>1971</td>\n",
       "      <td>6</td>\n",
       "      <td>28</td>\n",
       "      <td>117.24</td>\n",
       "      <td>$21,427,700,000,000</td>\n",
       "      <td>78.5</td>\n",
       "      <td>9.6</td>\n",
       "      <td>36.6</td>\n",
       "      <td>328239523</td>\n",
       "    </tr>\n",
       "    <tr>\n",
       "      <th>2</th>\n",
       "      <td>3</td>\n",
       "      <td>Technologie</td>\n",
       "      <td>Jeff Bezos</td>\n",
       "      <td>États-Unis</td>\n",
       "      <td>Medina</td>\n",
       "      <td>Amazon</td>\n",
       "      <td>Technology</td>\n",
       "      <td>True</td>\n",
       "      <td>H</td>\n",
       "      <td>Bezos</td>\n",
       "      <td>...</td>\n",
       "      <td>114000</td>\n",
       "      <td>1964</td>\n",
       "      <td>1</td>\n",
       "      <td>12</td>\n",
       "      <td>117.24</td>\n",
       "      <td>$21,427,700,000,000</td>\n",
       "      <td>78.5</td>\n",
       "      <td>9.6</td>\n",
       "      <td>36.6</td>\n",
       "      <td>328239523</td>\n",
       "    </tr>\n",
       "    <tr>\n",
       "      <th>3</th>\n",
       "      <td>4</td>\n",
       "      <td>Technologie</td>\n",
       "      <td>Larry Ellison</td>\n",
       "      <td>États-Unis</td>\n",
       "      <td>Lanai</td>\n",
       "      <td>Oracle</td>\n",
       "      <td>Technology</td>\n",
       "      <td>True</td>\n",
       "      <td>H</td>\n",
       "      <td>Ellison</td>\n",
       "      <td>...</td>\n",
       "      <td>107000</td>\n",
       "      <td>1944</td>\n",
       "      <td>8</td>\n",
       "      <td>17</td>\n",
       "      <td>117.24</td>\n",
       "      <td>$21,427,700,000,000</td>\n",
       "      <td>78.5</td>\n",
       "      <td>9.6</td>\n",
       "      <td>36.6</td>\n",
       "      <td>328239523</td>\n",
       "    </tr>\n",
       "    <tr>\n",
       "      <th>4</th>\n",
       "      <td>5</td>\n",
       "      <td>Finance &amp; Investissements</td>\n",
       "      <td>Warren Buffett</td>\n",
       "      <td>États-Unis</td>\n",
       "      <td>Omaha</td>\n",
       "      <td>Berkshire Hathaway</td>\n",
       "      <td>Finance &amp; Investments</td>\n",
       "      <td>True</td>\n",
       "      <td>H</td>\n",
       "      <td>Buffett</td>\n",
       "      <td>...</td>\n",
       "      <td>106000</td>\n",
       "      <td>1930</td>\n",
       "      <td>8</td>\n",
       "      <td>30</td>\n",
       "      <td>117.24</td>\n",
       "      <td>$21,427,700,000,000</td>\n",
       "      <td>78.5</td>\n",
       "      <td>9.6</td>\n",
       "      <td>36.6</td>\n",
       "      <td>328239523</td>\n",
       "    </tr>\n",
       "    <tr>\n",
       "      <th>...</th>\n",
       "      <td>...</td>\n",
       "      <td>...</td>\n",
       "      <td>...</td>\n",
       "      <td>...</td>\n",
       "      <td>...</td>\n",
       "      <td>...</td>\n",
       "      <td>...</td>\n",
       "      <td>...</td>\n",
       "      <td>...</td>\n",
       "      <td>...</td>\n",
       "      <td>...</td>\n",
       "      <td>...</td>\n",
       "      <td>...</td>\n",
       "      <td>...</td>\n",
       "      <td>...</td>\n",
       "      <td>...</td>\n",
       "      <td>...</td>\n",
       "      <td>...</td>\n",
       "      <td>...</td>\n",
       "      <td>...</td>\n",
       "      <td>...</td>\n",
       "    </tr>\n",
       "    <tr>\n",
       "      <th>476</th>\n",
       "      <td>497</td>\n",
       "      <td>Service</td>\n",
       "      <td>Gary Rollins</td>\n",
       "      <td>États-Unis</td>\n",
       "      <td>Atlanta</td>\n",
       "      <td>Pest control</td>\n",
       "      <td>Service</td>\n",
       "      <td>False</td>\n",
       "      <td>H</td>\n",
       "      <td>Rollins</td>\n",
       "      <td>...</td>\n",
       "      <td>5300</td>\n",
       "      <td>1944</td>\n",
       "      <td>8</td>\n",
       "      <td>30</td>\n",
       "      <td>117.24</td>\n",
       "      <td>$21,427,700,000,000</td>\n",
       "      <td>78.5</td>\n",
       "      <td>9.6</td>\n",
       "      <td>36.6</td>\n",
       "      <td>328239523</td>\n",
       "    </tr>\n",
       "    <tr>\n",
       "      <th>477</th>\n",
       "      <td>497</td>\n",
       "      <td>Finance &amp; Investissements</td>\n",
       "      <td>Mark Walter</td>\n",
       "      <td>États-Unis</td>\n",
       "      <td>Chicago</td>\n",
       "      <td>Finance, asset management</td>\n",
       "      <td>Finance &amp; Investments</td>\n",
       "      <td>True</td>\n",
       "      <td>H</td>\n",
       "      <td>Walter</td>\n",
       "      <td>...</td>\n",
       "      <td>5300</td>\n",
       "      <td>1960</td>\n",
       "      <td>5</td>\n",
       "      <td>22</td>\n",
       "      <td>117.24</td>\n",
       "      <td>$21,427,700,000,000</td>\n",
       "      <td>78.5</td>\n",
       "      <td>9.6</td>\n",
       "      <td>36.6</td>\n",
       "      <td>328239523</td>\n",
       "    </tr>\n",
       "    <tr>\n",
       "      <th>478</th>\n",
       "      <td>497</td>\n",
       "      <td>Fabrication</td>\n",
       "      <td>Ronald Wanek</td>\n",
       "      <td>États-Unis</td>\n",
       "      <td>Saint Petersburg</td>\n",
       "      <td>Furniture</td>\n",
       "      <td>Manufacturing</td>\n",
       "      <td>True</td>\n",
       "      <td>H</td>\n",
       "      <td>Wanek</td>\n",
       "      <td>...</td>\n",
       "      <td>5300</td>\n",
       "      <td>1941</td>\n",
       "      <td>5</td>\n",
       "      <td>19</td>\n",
       "      <td>117.24</td>\n",
       "      <td>$21,427,700,000,000</td>\n",
       "      <td>78.5</td>\n",
       "      <td>9.6</td>\n",
       "      <td>36.6</td>\n",
       "      <td>328239523</td>\n",
       "    </tr>\n",
       "    <tr>\n",
       "      <th>479</th>\n",
       "      <td>497</td>\n",
       "      <td>Alimentation &amp; Boissons</td>\n",
       "      <td>Erich Wesjohann &amp; family</td>\n",
       "      <td>Allemagne</td>\n",
       "      <td>Visbek</td>\n",
       "      <td>Poultry genetics</td>\n",
       "      <td>Food &amp; Beverage</td>\n",
       "      <td>True</td>\n",
       "      <td>H</td>\n",
       "      <td>Wesjohann</td>\n",
       "      <td>...</td>\n",
       "      <td>5300</td>\n",
       "      <td>1945</td>\n",
       "      <td>6</td>\n",
       "      <td>2</td>\n",
       "      <td>112.85</td>\n",
       "      <td>$3,845,630,030,824</td>\n",
       "      <td>80.9</td>\n",
       "      <td>11.5</td>\n",
       "      <td>48.8</td>\n",
       "      <td>83132799</td>\n",
       "    </tr>\n",
       "    <tr>\n",
       "      <th>480</th>\n",
       "      <td>497</td>\n",
       "      <td>Mode &amp; Commerce</td>\n",
       "      <td>M.A. Yusuff Ali</td>\n",
       "      <td>Émirats arabes unis</td>\n",
       "      <td>Abu Dhabi</td>\n",
       "      <td>Retail</td>\n",
       "      <td>Fashion &amp; Retail</td>\n",
       "      <td>True</td>\n",
       "      <td>H</td>\n",
       "      <td>Yusuff Ali</td>\n",
       "      <td>...</td>\n",
       "      <td>5300</td>\n",
       "      <td>1955</td>\n",
       "      <td>11</td>\n",
       "      <td>15</td>\n",
       "      <td>114.52</td>\n",
       "      <td>$421,142,267,938</td>\n",
       "      <td>77.8</td>\n",
       "      <td>0.1</td>\n",
       "      <td>15.9</td>\n",
       "      <td>9770529</td>\n",
       "    </tr>\n",
       "  </tbody>\n",
       "</table>\n",
       "<p>481 rows × 21 columns</p>\n",
       "</div>"
      ],
      "text/plain": [
       "     rang                  categorie                 prenomNom  \\\n",
       "0       1            Mode & Commerce  Bernard Arnault & family   \n",
       "1       2                 Automobile                 Elon Musk   \n",
       "2       3                Technologie                Jeff Bezos   \n",
       "3       4                Technologie             Larry Ellison   \n",
       "4       5  Finance & Investissements            Warren Buffett   \n",
       "..    ...                        ...                       ...   \n",
       "476   497                    Service              Gary Rollins   \n",
       "477   497  Finance & Investissements               Mark Walter   \n",
       "478   497                Fabrication              Ronald Wanek   \n",
       "479   497    Alimentation & Boissons  Erich Wesjohann & family   \n",
       "480   497            Mode & Commerce           M.A. Yusuff Ali   \n",
       "\n",
       "                    pays             ville                     source  \\\n",
       "0                 France             Paris                       LVMH   \n",
       "1             États-Unis            Austin              Tesla, SpaceX   \n",
       "2             États-Unis            Medina                     Amazon   \n",
       "3             États-Unis             Lanai                     Oracle   \n",
       "4             États-Unis             Omaha         Berkshire Hathaway   \n",
       "..                   ...               ...                        ...   \n",
       "476           États-Unis           Atlanta               Pest control   \n",
       "477           États-Unis           Chicago  Finance, asset management   \n",
       "478           États-Unis  Saint Petersburg                  Furniture   \n",
       "479            Allemagne            Visbek           Poultry genetics   \n",
       "480  Émirats arabes unis         Abu Dhabi                     Retail   \n",
       "\n",
       "                   domaine  luiMeme genre         nom  ... revenuFinal  \\\n",
       "0         Fashion & Retail    False     H     Arnault  ...      211000   \n",
       "1               Automotive     True     H        Musk  ...      180000   \n",
       "2               Technology     True     H       Bezos  ...      114000   \n",
       "3               Technology     True     H     Ellison  ...      107000   \n",
       "4    Finance & Investments     True     H     Buffett  ...      106000   \n",
       "..                     ...      ...   ...         ...  ...         ...   \n",
       "476                Service    False     H     Rollins  ...        5300   \n",
       "477  Finance & Investments     True     H      Walter  ...        5300   \n",
       "478          Manufacturing     True     H       Wanek  ...        5300   \n",
       "479        Food & Beverage     True     H   Wesjohann  ...        5300   \n",
       "480       Fashion & Retail     True     H  Yusuff Ali  ...        5300   \n",
       "\n",
       "     anneeNaissance  moisNaissance  jourNaissance  cpi_pays  \\\n",
       "0              1949              3              5    110.05   \n",
       "1              1971              6             28    117.24   \n",
       "2              1964              1             12    117.24   \n",
       "3              1944              8             17    117.24   \n",
       "4              1930              8             30    117.24   \n",
       "..              ...            ...            ...       ...   \n",
       "476            1944              8             30    117.24   \n",
       "477            1960              5             22    117.24   \n",
       "478            1941              5             19    117.24   \n",
       "479            1945              6              2    112.85   \n",
       "480            1955             11             15    114.52   \n",
       "\n",
       "                 pib_pays esperance_ de_vie_pays  tax_revenue_pays  \\\n",
       "0     $2,715,518,274,227                    82.5              24.2   \n",
       "1    $21,427,700,000,000                    78.5               9.6   \n",
       "2    $21,427,700,000,000                    78.5               9.6   \n",
       "3    $21,427,700,000,000                    78.5               9.6   \n",
       "4    $21,427,700,000,000                    78.5               9.6   \n",
       "..                    ...                    ...               ...   \n",
       "476  $21,427,700,000,000                    78.5               9.6   \n",
       "477  $21,427,700,000,000                    78.5               9.6   \n",
       "478  $21,427,700,000,000                    78.5               9.6   \n",
       "479   $3,845,630,030,824                    80.9              11.5   \n",
       "480     $421,142,267,938                    77.8               0.1   \n",
       "\n",
       "     total_taux_imposition_pays  population_pays  \n",
       "0                          60.7         67059887  \n",
       "1                          36.6        328239523  \n",
       "2                          36.6        328239523  \n",
       "3                          36.6        328239523  \n",
       "4                          36.6        328239523  \n",
       "..                          ...              ...  \n",
       "476                        36.6        328239523  \n",
       "477                        36.6        328239523  \n",
       "478                        36.6        328239523  \n",
       "479                        48.8         83132799  \n",
       "480                        15.9          9770529  \n",
       "\n",
       "[481 rows x 21 columns]"
      ]
     },
     "execution_count": 14,
     "metadata": {},
     "output_type": "execute_result"
    }
   ],
   "source": [
    "dataset"
   ]
  },
  {
   "cell_type": "code",
   "execution_count": 15,
   "id": "70c20a8c",
   "metadata": {},
   "outputs": [
    {
     "data": {
      "text/html": [
       "<div>\n",
       "<style scoped>\n",
       "    .dataframe tbody tr th:only-of-type {\n",
       "        vertical-align: middle;\n",
       "    }\n",
       "\n",
       "    .dataframe tbody tr th {\n",
       "        vertical-align: top;\n",
       "    }\n",
       "\n",
       "    .dataframe thead th {\n",
       "        text-align: right;\n",
       "    }\n",
       "</style>\n",
       "<table border=\"1\" class=\"dataframe\">\n",
       "  <thead>\n",
       "    <tr style=\"text-align: right;\">\n",
       "      <th></th>\n",
       "      <th>rang</th>\n",
       "      <th>categorie</th>\n",
       "      <th>prenomNom</th>\n",
       "      <th>pays</th>\n",
       "      <th>ville</th>\n",
       "      <th>source</th>\n",
       "      <th>domaine</th>\n",
       "      <th>luiMeme</th>\n",
       "      <th>genre</th>\n",
       "      <th>nom</th>\n",
       "      <th>...</th>\n",
       "      <th>revenuFinal</th>\n",
       "      <th>anneeNaissance</th>\n",
       "      <th>moisNaissance</th>\n",
       "      <th>jourNaissance</th>\n",
       "      <th>cpi_pays</th>\n",
       "      <th>pib_pays</th>\n",
       "      <th>esperance_ de_vie_pays</th>\n",
       "      <th>tax_revenue_pays</th>\n",
       "      <th>total_taux_imposition_pays</th>\n",
       "      <th>population_pays</th>\n",
       "    </tr>\n",
       "  </thead>\n",
       "  <tbody>\n",
       "    <tr>\n",
       "      <th>0</th>\n",
       "      <td>1</td>\n",
       "      <td>Mode &amp; Commerce</td>\n",
       "      <td>Bernard Arnault &amp; family</td>\n",
       "      <td>France</td>\n",
       "      <td>Paris</td>\n",
       "      <td>LVMH</td>\n",
       "      <td>Fashion &amp; Retail</td>\n",
       "      <td>False</td>\n",
       "      <td>H</td>\n",
       "      <td>Arnault</td>\n",
       "      <td>...</td>\n",
       "      <td>211000</td>\n",
       "      <td>1949</td>\n",
       "      <td>3</td>\n",
       "      <td>5</td>\n",
       "      <td>110.05</td>\n",
       "      <td>$2,715,518,274,227</td>\n",
       "      <td>82.5</td>\n",
       "      <td>24.2</td>\n",
       "      <td>60.7</td>\n",
       "      <td>67059887</td>\n",
       "    </tr>\n",
       "    <tr>\n",
       "      <th>1</th>\n",
       "      <td>2</td>\n",
       "      <td>Automobile</td>\n",
       "      <td>Elon Musk</td>\n",
       "      <td>États-Unis</td>\n",
       "      <td>Austin</td>\n",
       "      <td>Tesla, SpaceX</td>\n",
       "      <td>Automotive</td>\n",
       "      <td>True</td>\n",
       "      <td>H</td>\n",
       "      <td>Musk</td>\n",
       "      <td>...</td>\n",
       "      <td>180000</td>\n",
       "      <td>1971</td>\n",
       "      <td>6</td>\n",
       "      <td>28</td>\n",
       "      <td>117.24</td>\n",
       "      <td>$21,427,700,000,000</td>\n",
       "      <td>78.5</td>\n",
       "      <td>9.6</td>\n",
       "      <td>36.6</td>\n",
       "      <td>328239523</td>\n",
       "    </tr>\n",
       "    <tr>\n",
       "      <th>2</th>\n",
       "      <td>3</td>\n",
       "      <td>Technologie</td>\n",
       "      <td>Jeff Bezos</td>\n",
       "      <td>États-Unis</td>\n",
       "      <td>Medina</td>\n",
       "      <td>Amazon</td>\n",
       "      <td>Technology</td>\n",
       "      <td>True</td>\n",
       "      <td>H</td>\n",
       "      <td>Bezos</td>\n",
       "      <td>...</td>\n",
       "      <td>114000</td>\n",
       "      <td>1964</td>\n",
       "      <td>1</td>\n",
       "      <td>12</td>\n",
       "      <td>117.24</td>\n",
       "      <td>$21,427,700,000,000</td>\n",
       "      <td>78.5</td>\n",
       "      <td>9.6</td>\n",
       "      <td>36.6</td>\n",
       "      <td>328239523</td>\n",
       "    </tr>\n",
       "    <tr>\n",
       "      <th>3</th>\n",
       "      <td>4</td>\n",
       "      <td>Technologie</td>\n",
       "      <td>Larry Ellison</td>\n",
       "      <td>États-Unis</td>\n",
       "      <td>Lanai</td>\n",
       "      <td>Oracle</td>\n",
       "      <td>Technology</td>\n",
       "      <td>True</td>\n",
       "      <td>H</td>\n",
       "      <td>Ellison</td>\n",
       "      <td>...</td>\n",
       "      <td>107000</td>\n",
       "      <td>1944</td>\n",
       "      <td>8</td>\n",
       "      <td>17</td>\n",
       "      <td>117.24</td>\n",
       "      <td>$21,427,700,000,000</td>\n",
       "      <td>78.5</td>\n",
       "      <td>9.6</td>\n",
       "      <td>36.6</td>\n",
       "      <td>328239523</td>\n",
       "    </tr>\n",
       "    <tr>\n",
       "      <th>4</th>\n",
       "      <td>5</td>\n",
       "      <td>Finance &amp; Investissements</td>\n",
       "      <td>Warren Buffett</td>\n",
       "      <td>États-Unis</td>\n",
       "      <td>Omaha</td>\n",
       "      <td>Berkshire Hathaway</td>\n",
       "      <td>Finance &amp; Investments</td>\n",
       "      <td>True</td>\n",
       "      <td>H</td>\n",
       "      <td>Buffett</td>\n",
       "      <td>...</td>\n",
       "      <td>106000</td>\n",
       "      <td>1930</td>\n",
       "      <td>8</td>\n",
       "      <td>30</td>\n",
       "      <td>117.24</td>\n",
       "      <td>$21,427,700,000,000</td>\n",
       "      <td>78.5</td>\n",
       "      <td>9.6</td>\n",
       "      <td>36.6</td>\n",
       "      <td>328239523</td>\n",
       "    </tr>\n",
       "  </tbody>\n",
       "</table>\n",
       "<p>5 rows × 21 columns</p>\n",
       "</div>"
      ],
      "text/plain": [
       "   rang                  categorie                 prenomNom        pays  \\\n",
       "0     1            Mode & Commerce  Bernard Arnault & family      France   \n",
       "1     2                 Automobile                 Elon Musk  États-Unis   \n",
       "2     3                Technologie                Jeff Bezos  États-Unis   \n",
       "3     4                Technologie             Larry Ellison  États-Unis   \n",
       "4     5  Finance & Investissements            Warren Buffett  États-Unis   \n",
       "\n",
       "    ville              source                domaine  luiMeme genre      nom  \\\n",
       "0   Paris                LVMH       Fashion & Retail    False     H  Arnault   \n",
       "1  Austin       Tesla, SpaceX             Automotive     True     H     Musk   \n",
       "2  Medina              Amazon             Technology     True     H    Bezos   \n",
       "3   Lanai              Oracle             Technology     True     H  Ellison   \n",
       "4   Omaha  Berkshire Hathaway  Finance & Investments     True     H  Buffett   \n",
       "\n",
       "   ... revenuFinal  anneeNaissance  moisNaissance  jourNaissance  cpi_pays  \\\n",
       "0  ...      211000            1949              3              5    110.05   \n",
       "1  ...      180000            1971              6             28    117.24   \n",
       "2  ...      114000            1964              1             12    117.24   \n",
       "3  ...      107000            1944              8             17    117.24   \n",
       "4  ...      106000            1930              8             30    117.24   \n",
       "\n",
       "               pib_pays esperance_ de_vie_pays  tax_revenue_pays  \\\n",
       "0   $2,715,518,274,227                    82.5              24.2   \n",
       "1  $21,427,700,000,000                    78.5               9.6   \n",
       "2  $21,427,700,000,000                    78.5               9.6   \n",
       "3  $21,427,700,000,000                    78.5               9.6   \n",
       "4  $21,427,700,000,000                    78.5               9.6   \n",
       "\n",
       "   total_taux_imposition_pays  population_pays  \n",
       "0                        60.7         67059887  \n",
       "1                        36.6        328239523  \n",
       "2                        36.6        328239523  \n",
       "3                        36.6        328239523  \n",
       "4                        36.6        328239523  \n",
       "\n",
       "[5 rows x 21 columns]"
      ]
     },
     "execution_count": 15,
     "metadata": {},
     "output_type": "execute_result"
    }
   ],
   "source": [
    "dataset.head()"
   ]
  },
  {
   "cell_type": "code",
   "execution_count": 16,
   "id": "bc70a808",
   "metadata": {},
   "outputs": [
    {
     "data": {
      "text/plain": [
       "rang                            int64\n",
       "categorie                      object\n",
       "prenomNom                      object\n",
       "pays                           object\n",
       "ville                          object\n",
       "source                         object\n",
       "domaine                        object\n",
       "luiMeme                          bool\n",
       "genre                          object\n",
       "nom                            object\n",
       "prenom                         object\n",
       "revenuFinal                     int64\n",
       "anneeNaissance                  int64\n",
       "moisNaissance                   int64\n",
       "jourNaissance                   int64\n",
       "cpi_pays                      float64\n",
       "pib_pays                       object\n",
       "esperance_ de_vie_pays        float64\n",
       "tax_revenue_pays              float64\n",
       "total_taux_imposition_pays    float64\n",
       "population_pays                 int64\n",
       "dtype: object"
      ]
     },
     "execution_count": 16,
     "metadata": {},
     "output_type": "execute_result"
    }
   ],
   "source": [
    "dataset.dtypes"
   ]
  },
  {
   "cell_type": "code",
   "execution_count": 17,
   "id": "de96bf3d",
   "metadata": {},
   "outputs": [
    {
     "data": {
      "text/plain": [
       "rang                          0\n",
       "categorie                     0\n",
       "prenomNom                     0\n",
       "pays                          0\n",
       "ville                         0\n",
       "source                        0\n",
       "domaine                       0\n",
       "luiMeme                       0\n",
       "genre                         0\n",
       "nom                           0\n",
       "prenom                        0\n",
       "revenuFinal                   0\n",
       "anneeNaissance                0\n",
       "moisNaissance                 0\n",
       "jourNaissance                 0\n",
       "cpi_pays                      0\n",
       "pib_pays                      0\n",
       "esperance_ de_vie_pays        0\n",
       "tax_revenue_pays              0\n",
       "total_taux_imposition_pays    0\n",
       "population_pays               0\n",
       "dtype: int64"
      ]
     },
     "execution_count": 17,
     "metadata": {},
     "output_type": "execute_result"
    }
   ],
   "source": [
    "dataset[dataset.isna()].count()"
   ]
  },
  {
   "cell_type": "code",
   "execution_count": 18,
   "id": "5d2b3099",
   "metadata": {},
   "outputs": [
    {
     "data": {
      "text/plain": [
       "rang                          6\n",
       "categorie                     6\n",
       "prenomNom                     6\n",
       "pays                          6\n",
       "ville                         6\n",
       "source                        6\n",
       "domaine                       6\n",
       "luiMeme                       6\n",
       "genre                         6\n",
       "nom                           6\n",
       "prenom                        6\n",
       "revenuFinal                   6\n",
       "anneeNaissance                6\n",
       "moisNaissance                 6\n",
       "jourNaissance                 6\n",
       "cpi_pays                      6\n",
       "pib_pays                      6\n",
       "esperance_ de_vie_pays        6\n",
       "tax_revenue_pays              6\n",
       "total_taux_imposition_pays    6\n",
       "population_pays               6\n",
       "dtype: int64"
      ]
     },
     "execution_count": 18,
     "metadata": {},
     "output_type": "execute_result"
    }
   ],
   "source": [
    "dataset[dataset.duplicated()].count()"
   ]
  },
  {
   "cell_type": "code",
   "execution_count": 19,
   "id": "01f52e18",
   "metadata": {},
   "outputs": [],
   "source": [
    "dataset=dataset.drop_duplicates()"
   ]
  },
  {
   "cell_type": "code",
   "execution_count": 20,
   "id": "dbc4cd26",
   "metadata": {},
   "outputs": [
    {
     "data": {
      "text/plain": [
       "(475, 21)"
      ]
     },
     "execution_count": 20,
     "metadata": {},
     "output_type": "execute_result"
    }
   ],
   "source": [
    "dataset.shape"
   ]
  },
  {
   "cell_type": "code",
   "execution_count": 21,
   "id": "83737ee3",
   "metadata": {},
   "outputs": [
    {
     "data": {
      "text/plain": [
       "H    407\n",
       "F     68\n",
       "Name: genre, dtype: int64"
      ]
     },
     "execution_count": 21,
     "metadata": {},
     "output_type": "execute_result"
    }
   ],
   "source": [
    "dataset['genre'].value_counts()"
   ]
  },
  {
   "cell_type": "code",
   "execution_count": 22,
   "id": "fda7c549",
   "metadata": {},
   "outputs": [
    {
     "name": "stderr",
     "output_type": "stream",
     "text": [
      "C:\\Users\\marti\\AppData\\Local\\Temp\\ipykernel_34716\\2849780264.py:1: SettingWithCopyWarning: \n",
      "A value is trying to be set on a copy of a slice from a DataFrame.\n",
      "Try using .loc[row_indexer,col_indexer] = value instead\n",
      "\n",
      "See the caveats in the documentation: https://pandas.pydata.org/pandas-docs/stable/user_guide/indexing.html#returning-a-view-versus-a-copy\n",
      "  dataset['genre'] = dataset['genre'].replace(to_replace=[r'^F$',r'^H$'],value=['femme','homme'],regex =True, inplace=False)\n"
     ]
    }
   ],
   "source": [
    "dataset['genre'] = dataset['genre'].replace(to_replace=[r'^F$',r'^H$'],value=['femme','homme'],regex =True, inplace=False)"
   ]
  },
  {
   "cell_type": "code",
   "execution_count": 23,
   "id": "df329cda",
   "metadata": {},
   "outputs": [
    {
     "data": {
      "text/plain": [
       "homme    407\n",
       "femme     68\n",
       "Name: genre, dtype: int64"
      ]
     },
     "execution_count": 23,
     "metadata": {},
     "output_type": "execute_result"
    }
   ],
   "source": [
    "dataset['genre'].value_counts()"
   ]
  },
  {
   "cell_type": "code",
   "execution_count": 24,
   "id": "396fcb7b",
   "metadata": {},
   "outputs": [
    {
     "data": {
      "text/plain": [
       "rang                            int64\n",
       "categorie                      object\n",
       "prenomNom                      object\n",
       "pays                           object\n",
       "ville                          object\n",
       "source                         object\n",
       "domaine                        object\n",
       "luiMeme                          bool\n",
       "genre                          object\n",
       "nom                            object\n",
       "prenom                         object\n",
       "revenuFinal                     int64\n",
       "anneeNaissance                  int64\n",
       "moisNaissance                   int64\n",
       "jourNaissance                   int64\n",
       "cpi_pays                      float64\n",
       "pib_pays                       object\n",
       "esperance_ de_vie_pays        float64\n",
       "tax_revenue_pays              float64\n",
       "total_taux_imposition_pays    float64\n",
       "population_pays                 int64\n",
       "dtype: object"
      ]
     },
     "execution_count": 24,
     "metadata": {},
     "output_type": "execute_result"
    }
   ],
   "source": [
    "dataset.dtypes"
   ]
  },
  {
   "cell_type": "code",
   "execution_count": 26,
   "id": "7306dc87",
   "metadata": {},
   "outputs": [
    {
     "ename": "ValueError",
     "evalue": "could not convert string to float: '$2,715,518,274,227 '",
     "output_type": "error",
     "traceback": [
      "\u001b[1;31m---------------------------------------------------------------------------\u001b[0m",
      "\u001b[1;31mValueError\u001b[0m                                Traceback (most recent call last)",
      "Cell \u001b[1;32mIn[26], line 1\u001b[0m\n\u001b[1;32m----> 1\u001b[0m dataset[\u001b[38;5;124m'\u001b[39m\u001b[38;5;124mpib_pays\u001b[39m\u001b[38;5;124m'\u001b[39m]\u001b[38;5;241m.\u001b[39mastype(\u001b[38;5;124m'\u001b[39m\u001b[38;5;124mfloat64\u001b[39m\u001b[38;5;124m'\u001b[39m)\n",
      "File \u001b[1;32m~\\anaconda3\\Lib\\site-packages\\pandas\\core\\generic.py:6240\u001b[0m, in \u001b[0;36mNDFrame.astype\u001b[1;34m(self, dtype, copy, errors)\u001b[0m\n\u001b[0;32m   6233\u001b[0m     results \u001b[38;5;241m=\u001b[39m [\n\u001b[0;32m   6234\u001b[0m         \u001b[38;5;28mself\u001b[39m\u001b[38;5;241m.\u001b[39miloc[:, i]\u001b[38;5;241m.\u001b[39mastype(dtype, copy\u001b[38;5;241m=\u001b[39mcopy)\n\u001b[0;32m   6235\u001b[0m         \u001b[38;5;28;01mfor\u001b[39;00m i \u001b[38;5;129;01min\u001b[39;00m \u001b[38;5;28mrange\u001b[39m(\u001b[38;5;28mlen\u001b[39m(\u001b[38;5;28mself\u001b[39m\u001b[38;5;241m.\u001b[39mcolumns))\n\u001b[0;32m   6236\u001b[0m     ]\n\u001b[0;32m   6238\u001b[0m \u001b[38;5;28;01melse\u001b[39;00m:\n\u001b[0;32m   6239\u001b[0m     \u001b[38;5;66;03m# else, only a single dtype is given\u001b[39;00m\n\u001b[1;32m-> 6240\u001b[0m     new_data \u001b[38;5;241m=\u001b[39m \u001b[38;5;28mself\u001b[39m\u001b[38;5;241m.\u001b[39m_mgr\u001b[38;5;241m.\u001b[39mastype(dtype\u001b[38;5;241m=\u001b[39mdtype, copy\u001b[38;5;241m=\u001b[39mcopy, errors\u001b[38;5;241m=\u001b[39merrors)\n\u001b[0;32m   6241\u001b[0m     \u001b[38;5;28;01mreturn\u001b[39;00m \u001b[38;5;28mself\u001b[39m\u001b[38;5;241m.\u001b[39m_constructor(new_data)\u001b[38;5;241m.\u001b[39m__finalize__(\u001b[38;5;28mself\u001b[39m, method\u001b[38;5;241m=\u001b[39m\u001b[38;5;124m\"\u001b[39m\u001b[38;5;124mastype\u001b[39m\u001b[38;5;124m\"\u001b[39m)\n\u001b[0;32m   6243\u001b[0m \u001b[38;5;66;03m# GH 33113: handle empty frame or series\u001b[39;00m\n",
      "File \u001b[1;32m~\\anaconda3\\Lib\\site-packages\\pandas\\core\\internals\\managers.py:448\u001b[0m, in \u001b[0;36mBaseBlockManager.astype\u001b[1;34m(self, dtype, copy, errors)\u001b[0m\n\u001b[0;32m    447\u001b[0m \u001b[38;5;28;01mdef\u001b[39;00m \u001b[38;5;21mastype\u001b[39m(\u001b[38;5;28mself\u001b[39m: T, dtype, copy: \u001b[38;5;28mbool\u001b[39m \u001b[38;5;241m=\u001b[39m \u001b[38;5;28;01mFalse\u001b[39;00m, errors: \u001b[38;5;28mstr\u001b[39m \u001b[38;5;241m=\u001b[39m \u001b[38;5;124m\"\u001b[39m\u001b[38;5;124mraise\u001b[39m\u001b[38;5;124m\"\u001b[39m) \u001b[38;5;241m-\u001b[39m\u001b[38;5;241m>\u001b[39m T:\n\u001b[1;32m--> 448\u001b[0m     \u001b[38;5;28;01mreturn\u001b[39;00m \u001b[38;5;28mself\u001b[39m\u001b[38;5;241m.\u001b[39mapply(\u001b[38;5;124m\"\u001b[39m\u001b[38;5;124mastype\u001b[39m\u001b[38;5;124m\"\u001b[39m, dtype\u001b[38;5;241m=\u001b[39mdtype, copy\u001b[38;5;241m=\u001b[39mcopy, errors\u001b[38;5;241m=\u001b[39merrors)\n",
      "File \u001b[1;32m~\\anaconda3\\Lib\\site-packages\\pandas\\core\\internals\\managers.py:352\u001b[0m, in \u001b[0;36mBaseBlockManager.apply\u001b[1;34m(self, f, align_keys, ignore_failures, **kwargs)\u001b[0m\n\u001b[0;32m    350\u001b[0m         applied \u001b[38;5;241m=\u001b[39m b\u001b[38;5;241m.\u001b[39mapply(f, \u001b[38;5;241m*\u001b[39m\u001b[38;5;241m*\u001b[39mkwargs)\n\u001b[0;32m    351\u001b[0m     \u001b[38;5;28;01melse\u001b[39;00m:\n\u001b[1;32m--> 352\u001b[0m         applied \u001b[38;5;241m=\u001b[39m \u001b[38;5;28mgetattr\u001b[39m(b, f)(\u001b[38;5;241m*\u001b[39m\u001b[38;5;241m*\u001b[39mkwargs)\n\u001b[0;32m    353\u001b[0m \u001b[38;5;28;01mexcept\u001b[39;00m (\u001b[38;5;167;01mTypeError\u001b[39;00m, \u001b[38;5;167;01mNotImplementedError\u001b[39;00m):\n\u001b[0;32m    354\u001b[0m     \u001b[38;5;28;01mif\u001b[39;00m \u001b[38;5;129;01mnot\u001b[39;00m ignore_failures:\n",
      "File \u001b[1;32m~\\anaconda3\\Lib\\site-packages\\pandas\\core\\internals\\blocks.py:526\u001b[0m, in \u001b[0;36mBlock.astype\u001b[1;34m(self, dtype, copy, errors)\u001b[0m\n\u001b[0;32m    508\u001b[0m \u001b[38;5;250m\u001b[39m\u001b[38;5;124;03m\"\"\"\u001b[39;00m\n\u001b[0;32m    509\u001b[0m \u001b[38;5;124;03mCoerce to the new dtype.\u001b[39;00m\n\u001b[0;32m    510\u001b[0m \n\u001b[1;32m   (...)\u001b[0m\n\u001b[0;32m    522\u001b[0m \u001b[38;5;124;03mBlock\u001b[39;00m\n\u001b[0;32m    523\u001b[0m \u001b[38;5;124;03m\"\"\"\u001b[39;00m\n\u001b[0;32m    524\u001b[0m values \u001b[38;5;241m=\u001b[39m \u001b[38;5;28mself\u001b[39m\u001b[38;5;241m.\u001b[39mvalues\n\u001b[1;32m--> 526\u001b[0m new_values \u001b[38;5;241m=\u001b[39m astype_array_safe(values, dtype, copy\u001b[38;5;241m=\u001b[39mcopy, errors\u001b[38;5;241m=\u001b[39merrors)\n\u001b[0;32m    528\u001b[0m new_values \u001b[38;5;241m=\u001b[39m maybe_coerce_values(new_values)\n\u001b[0;32m    529\u001b[0m newb \u001b[38;5;241m=\u001b[39m \u001b[38;5;28mself\u001b[39m\u001b[38;5;241m.\u001b[39mmake_block(new_values)\n",
      "File \u001b[1;32m~\\anaconda3\\Lib\\site-packages\\pandas\\core\\dtypes\\astype.py:299\u001b[0m, in \u001b[0;36mastype_array_safe\u001b[1;34m(values, dtype, copy, errors)\u001b[0m\n\u001b[0;32m    296\u001b[0m     \u001b[38;5;28;01mreturn\u001b[39;00m values\u001b[38;5;241m.\u001b[39mcopy()\n\u001b[0;32m    298\u001b[0m \u001b[38;5;28;01mtry\u001b[39;00m:\n\u001b[1;32m--> 299\u001b[0m     new_values \u001b[38;5;241m=\u001b[39m astype_array(values, dtype, copy\u001b[38;5;241m=\u001b[39mcopy)\n\u001b[0;32m    300\u001b[0m \u001b[38;5;28;01mexcept\u001b[39;00m (\u001b[38;5;167;01mValueError\u001b[39;00m, \u001b[38;5;167;01mTypeError\u001b[39;00m):\n\u001b[0;32m    301\u001b[0m     \u001b[38;5;66;03m# e.g. astype_nansafe can fail on object-dtype of strings\u001b[39;00m\n\u001b[0;32m    302\u001b[0m     \u001b[38;5;66;03m#  trying to convert to float\u001b[39;00m\n\u001b[0;32m    303\u001b[0m     \u001b[38;5;28;01mif\u001b[39;00m errors \u001b[38;5;241m==\u001b[39m \u001b[38;5;124m\"\u001b[39m\u001b[38;5;124mignore\u001b[39m\u001b[38;5;124m\"\u001b[39m:\n",
      "File \u001b[1;32m~\\anaconda3\\Lib\\site-packages\\pandas\\core\\dtypes\\astype.py:230\u001b[0m, in \u001b[0;36mastype_array\u001b[1;34m(values, dtype, copy)\u001b[0m\n\u001b[0;32m    227\u001b[0m     values \u001b[38;5;241m=\u001b[39m values\u001b[38;5;241m.\u001b[39mastype(dtype, copy\u001b[38;5;241m=\u001b[39mcopy)\n\u001b[0;32m    229\u001b[0m \u001b[38;5;28;01melse\u001b[39;00m:\n\u001b[1;32m--> 230\u001b[0m     values \u001b[38;5;241m=\u001b[39m astype_nansafe(values, dtype, copy\u001b[38;5;241m=\u001b[39mcopy)\n\u001b[0;32m    232\u001b[0m \u001b[38;5;66;03m# in pandas we don't store numpy str dtypes, so convert to object\u001b[39;00m\n\u001b[0;32m    233\u001b[0m \u001b[38;5;28;01mif\u001b[39;00m \u001b[38;5;28misinstance\u001b[39m(dtype, np\u001b[38;5;241m.\u001b[39mdtype) \u001b[38;5;129;01mand\u001b[39;00m \u001b[38;5;28missubclass\u001b[39m(values\u001b[38;5;241m.\u001b[39mdtype\u001b[38;5;241m.\u001b[39mtype, \u001b[38;5;28mstr\u001b[39m):\n",
      "File \u001b[1;32m~\\anaconda3\\Lib\\site-packages\\pandas\\core\\dtypes\\astype.py:170\u001b[0m, in \u001b[0;36mastype_nansafe\u001b[1;34m(arr, dtype, copy, skipna)\u001b[0m\n\u001b[0;32m    166\u001b[0m     \u001b[38;5;28;01mraise\u001b[39;00m \u001b[38;5;167;01mValueError\u001b[39;00m(msg)\n\u001b[0;32m    168\u001b[0m \u001b[38;5;28;01mif\u001b[39;00m copy \u001b[38;5;129;01mor\u001b[39;00m is_object_dtype(arr\u001b[38;5;241m.\u001b[39mdtype) \u001b[38;5;129;01mor\u001b[39;00m is_object_dtype(dtype):\n\u001b[0;32m    169\u001b[0m     \u001b[38;5;66;03m# Explicit copy, or required since NumPy can't view from / to object.\u001b[39;00m\n\u001b[1;32m--> 170\u001b[0m     \u001b[38;5;28;01mreturn\u001b[39;00m arr\u001b[38;5;241m.\u001b[39mastype(dtype, copy\u001b[38;5;241m=\u001b[39m\u001b[38;5;28;01mTrue\u001b[39;00m)\n\u001b[0;32m    172\u001b[0m \u001b[38;5;28;01mreturn\u001b[39;00m arr\u001b[38;5;241m.\u001b[39mastype(dtype, copy\u001b[38;5;241m=\u001b[39mcopy)\n",
      "\u001b[1;31mValueError\u001b[0m: could not convert string to float: '$2,715,518,274,227 '"
     ]
    }
   ],
   "source": [
    "dataset['pib_pays'].astype('float64')"
   ]
  },
  {
   "cell_type": "code",
   "execution_count": 27,
   "id": "8f28fde3",
   "metadata": {},
   "outputs": [
    {
     "name": "stdout",
     "output_type": "stream",
     "text": [
      "$2,715,518,274,227  2715518274227\n"
     ]
    }
   ],
   "source": [
    "list_pib = dataset['pib_pays'].to_list()\n",
    "list_pib_nouv =[]\n",
    "for el in list_pib :\n",
    "    el = re.sub(r'[^\\d]+','', el)\n",
    "    list_pib_nouv.append(el)\n",
    "print(list_pib[0], list_pib_nouv[0])"
   ]
  },
  {
   "cell_type": "code",
   "execution_count": 28,
   "id": "980e87fe",
   "metadata": {},
   "outputs": [
    {
     "name": "stderr",
     "output_type": "stream",
     "text": [
      "C:\\Users\\marti\\AppData\\Local\\Temp\\ipykernel_34716\\1537722871.py:1: SettingWithCopyWarning: \n",
      "A value is trying to be set on a copy of a slice from a DataFrame.\n",
      "Try using .loc[row_indexer,col_indexer] = value instead\n",
      "\n",
      "See the caveats in the documentation: https://pandas.pydata.org/pandas-docs/stable/user_guide/indexing.html#returning-a-view-versus-a-copy\n",
      "  dataset['pib_pays'] = pd.Series(list_pib_nouv)\n"
     ]
    }
   ],
   "source": [
    "dataset['pib_pays'] = pd.Series(list_pib_nouv)"
   ]
  },
  {
   "cell_type": "code",
   "execution_count": 29,
   "id": "8811d168",
   "metadata": {},
   "outputs": [
    {
     "name": "stderr",
     "output_type": "stream",
     "text": [
      "C:\\Users\\marti\\AppData\\Local\\Temp\\ipykernel_34716\\1967289592.py:1: SettingWithCopyWarning: \n",
      "A value is trying to be set on a copy of a slice from a DataFrame.\n",
      "Try using .loc[row_indexer,col_indexer] = value instead\n",
      "\n",
      "See the caveats in the documentation: https://pandas.pydata.org/pandas-docs/stable/user_guide/indexing.html#returning-a-view-versus-a-copy\n",
      "  dataset['pib_pays'] =dataset['pib_pays'].astype('float64')\n"
     ]
    }
   ],
   "source": [
    "dataset['pib_pays'] =dataset['pib_pays'].astype('float64')"
   ]
  },
  {
   "cell_type": "code",
   "execution_count": 30,
   "id": "76accd7a",
   "metadata": {},
   "outputs": [
    {
     "data": {
      "text/plain": [
       "dtype('float64')"
      ]
     },
     "execution_count": 30,
     "metadata": {},
     "output_type": "execute_result"
    }
   ],
   "source": [
    "dataset['pib_pays'].dtypes"
   ]
  },
  {
   "cell_type": "code",
   "execution_count": 31,
   "id": "c751fa51",
   "metadata": {},
   "outputs": [
    {
     "data": {
      "text/plain": [
       "0    2.715518e+12\n",
       "1    2.142770e+13\n",
       "2    2.142770e+13\n",
       "3    2.142770e+13\n",
       "4    2.142770e+13\n",
       "Name: pib_pays, dtype: float64"
      ]
     },
     "execution_count": 31,
     "metadata": {},
     "output_type": "execute_result"
    }
   ],
   "source": [
    "dataset['pib_pays'].head()"
   ]
  },
  {
   "cell_type": "code",
   "execution_count": null,
   "id": "c0d756eb",
   "metadata": {},
   "outputs": [],
   "source": [
    "#ajoute la colonne d'age"
   ]
  },
  {
   "cell_type": "code",
   "execution_count": 32,
   "id": "6244e87a",
   "metadata": {},
   "outputs": [
    {
     "data": {
      "text/plain": [
       "Index(['rang', 'categorie', 'prenomNom', 'pays', 'ville', 'source', 'domaine',\n",
       "       'luiMeme', 'genre', 'nom', 'prenom', 'revenuFinal', 'anneeNaissance',\n",
       "       'moisNaissance', 'jourNaissance', 'cpi_pays', 'pib_pays',\n",
       "       'esperance_ de_vie_pays', 'tax_revenue_pays',\n",
       "       'total_taux_imposition_pays', 'population_pays'],\n",
       "      dtype='object')"
      ]
     },
     "execution_count": 32,
     "metadata": {},
     "output_type": "execute_result"
    }
   ],
   "source": [
    "dataset.columns"
   ]
  },
  {
   "cell_type": "code",
   "execution_count": 33,
   "id": "9357c8b2",
   "metadata": {},
   "outputs": [
    {
     "name": "stderr",
     "output_type": "stream",
     "text": [
      "C:\\Users\\marti\\AppData\\Local\\Temp\\ipykernel_34716\\2241813526.py:1: SettingWithCopyWarning: \n",
      "A value is trying to be set on a copy of a slice from a DataFrame.\n",
      "Try using .loc[row_indexer,col_indexer] = value instead\n",
      "\n",
      "See the caveats in the documentation: https://pandas.pydata.org/pandas-docs/stable/user_guide/indexing.html#returning-a-view-versus-a-copy\n",
      "  dataset['dateNaissance'] = dataset['jourNaissance'].astype('str') + '-' + dataset['moisNaissance'].astype('str') + '-' + dataset['anneeNaissance'].astype('str')\n"
     ]
    }
   ],
   "source": [
    "dataset['dateNaissance'] = dataset['jourNaissance'].astype('str') + '-' + dataset['moisNaissance'].astype('str') + '-' + dataset['anneeNaissance'].astype('str')"
   ]
  },
  {
   "cell_type": "code",
   "execution_count": 34,
   "id": "273292df",
   "metadata": {},
   "outputs": [
    {
     "data": {
      "text/plain": [
       "0     5-3-1949\n",
       "1    28-6-1971\n",
       "2    12-1-1964\n",
       "3    17-8-1944\n",
       "4    30-8-1930\n",
       "Name: dateNaissance, dtype: object"
      ]
     },
     "execution_count": 34,
     "metadata": {},
     "output_type": "execute_result"
    }
   ],
   "source": [
    "dataset['dateNaissance'].head()"
   ]
  },
  {
   "cell_type": "code",
   "execution_count": 35,
   "id": "23b97f42",
   "metadata": {},
   "outputs": [
    {
     "name": "stderr",
     "output_type": "stream",
     "text": [
      "C:\\Users\\marti\\AppData\\Local\\Temp\\ipykernel_34716\\3335926060.py:1: SettingWithCopyWarning: \n",
      "A value is trying to be set on a copy of a slice from a DataFrame.\n",
      "Try using .loc[row_indexer,col_indexer] = value instead\n",
      "\n",
      "See the caveats in the documentation: https://pandas.pydata.org/pandas-docs/stable/user_guide/indexing.html#returning-a-view-versus-a-copy\n",
      "  dataset['dateNaissance'] = pd.to_datetime(dataset['dateNaissance'], format = '%d-%m-%Y')\n"
     ]
    }
   ],
   "source": [
    "dataset['dateNaissance'] = pd.to_datetime(dataset['dateNaissance'], format = '%d-%m-%Y')"
   ]
  },
  {
   "cell_type": "code",
   "execution_count": 36,
   "id": "151beff5",
   "metadata": {},
   "outputs": [
    {
     "data": {
      "text/plain": [
       "dtype('<M8[ns]')"
      ]
     },
     "execution_count": 36,
     "metadata": {},
     "output_type": "execute_result"
    }
   ],
   "source": [
    "dataset['dateNaissance'].dtypes"
   ]
  },
  {
   "cell_type": "code",
   "execution_count": 37,
   "id": "6bb79c23",
   "metadata": {},
   "outputs": [
    {
     "name": "stderr",
     "output_type": "stream",
     "text": [
      "C:\\Users\\marti\\AppData\\Local\\Temp\\ipykernel_34716\\3621022921.py:1: FutureWarning: The parsing of 'now' in pd.to_datetime without `utc=True` is deprecated. In a future version, this will match Timestamp('now') and Timestamp.now()\n",
      "  dataset['today']=pd.to_datetime('now')\n",
      "C:\\Users\\marti\\AppData\\Local\\Temp\\ipykernel_34716\\3621022921.py:1: SettingWithCopyWarning: \n",
      "A value is trying to be set on a copy of a slice from a DataFrame.\n",
      "Try using .loc[row_indexer,col_indexer] = value instead\n",
      "\n",
      "See the caveats in the documentation: https://pandas.pydata.org/pandas-docs/stable/user_guide/indexing.html#returning-a-view-versus-a-copy\n",
      "  dataset['today']=pd.to_datetime('now')\n"
     ]
    }
   ],
   "source": [
    "dataset['today']=pd.to_datetime('now')"
   ]
  },
  {
   "cell_type": "code",
   "execution_count": 38,
   "id": "0263e7f2",
   "metadata": {},
   "outputs": [
    {
     "name": "stderr",
     "output_type": "stream",
     "text": [
      "C:\\Users\\marti\\AppData\\Local\\Temp\\ipykernel_34716\\1384606129.py:1: SettingWithCopyWarning: \n",
      "A value is trying to be set on a copy of a slice from a DataFrame.\n",
      "Try using .loc[row_indexer,col_indexer] = value instead\n",
      "\n",
      "See the caveats in the documentation: https://pandas.pydata.org/pandas-docs/stable/user_guide/indexing.html#returning-a-view-versus-a-copy\n",
      "  dataset['age']= dataset.apply(lambda x: relativedelta(x.dateNaissance).years,axis =1)\n"
     ]
    }
   ],
   "source": [
    "dataset['age']= dataset.apply(lambda x: relativedelta(x.dateNaissance).years,axis =1)"
   ]
  },
  {
   "cell_type": "code",
   "execution_count": 39,
   "id": "2d05f0e4",
   "metadata": {},
   "outputs": [
    {
     "data": {
      "text/plain": [
       "0    0\n",
       "1    0\n",
       "2    0\n",
       "3    0\n",
       "4    0\n",
       "Name: age, dtype: int64"
      ]
     },
     "execution_count": 39,
     "metadata": {},
     "output_type": "execute_result"
    }
   ],
   "source": [
    "dataset['age'].head()"
   ]
  },
  {
   "cell_type": "code",
   "execution_count": null,
   "id": "fa6d39fe",
   "metadata": {},
   "outputs": [],
   "source": [
    "#analyse des donnnées , lister les top 5 milliardaires"
   ]
  },
  {
   "cell_type": "code",
   "execution_count": 40,
   "id": "bad505dd",
   "metadata": {},
   "outputs": [
    {
     "data": {
      "text/plain": [
       "Index(['rang', 'categorie', 'prenomNom', 'pays', 'ville', 'source', 'domaine',\n",
       "       'luiMeme', 'genre', 'nom', 'prenom', 'revenuFinal', 'anneeNaissance',\n",
       "       'moisNaissance', 'jourNaissance', 'cpi_pays', 'pib_pays',\n",
       "       'esperance_ de_vie_pays', 'tax_revenue_pays',\n",
       "       'total_taux_imposition_pays', 'population_pays', 'dateNaissance',\n",
       "       'today', 'age'],\n",
       "      dtype='object')"
      ]
     },
     "execution_count": 40,
     "metadata": {},
     "output_type": "execute_result"
    }
   ],
   "source": [
    "dataset.columns"
   ]
  },
  {
   "cell_type": "code",
   "execution_count": 41,
   "id": "2cb1e810",
   "metadata": {},
   "outputs": [],
   "source": [
    "dataset = dataset.sort_values ( by = 'revenuFinal', ascending=False)"
   ]
  },
  {
   "cell_type": "code",
   "execution_count": 42,
   "id": "6216f16e",
   "metadata": {},
   "outputs": [
    {
     "data": {
      "text/html": [
       "<div>\n",
       "<style scoped>\n",
       "    .dataframe tbody tr th:only-of-type {\n",
       "        vertical-align: middle;\n",
       "    }\n",
       "\n",
       "    .dataframe tbody tr th {\n",
       "        vertical-align: top;\n",
       "    }\n",
       "\n",
       "    .dataframe thead th {\n",
       "        text-align: right;\n",
       "    }\n",
       "</style>\n",
       "<table border=\"1\" class=\"dataframe\">\n",
       "  <thead>\n",
       "    <tr style=\"text-align: right;\">\n",
       "      <th></th>\n",
       "      <th>prenomNom</th>\n",
       "      <th>revenuFinal</th>\n",
       "    </tr>\n",
       "  </thead>\n",
       "  <tbody>\n",
       "    <tr>\n",
       "      <th>0</th>\n",
       "      <td>Bernard Arnault &amp; family</td>\n",
       "      <td>211000</td>\n",
       "    </tr>\n",
       "    <tr>\n",
       "      <th>1</th>\n",
       "      <td>Elon Musk</td>\n",
       "      <td>180000</td>\n",
       "    </tr>\n",
       "    <tr>\n",
       "      <th>2</th>\n",
       "      <td>Jeff Bezos</td>\n",
       "      <td>114000</td>\n",
       "    </tr>\n",
       "    <tr>\n",
       "      <th>3</th>\n",
       "      <td>Larry Ellison</td>\n",
       "      <td>107000</td>\n",
       "    </tr>\n",
       "    <tr>\n",
       "      <th>4</th>\n",
       "      <td>Warren Buffett</td>\n",
       "      <td>106000</td>\n",
       "    </tr>\n",
       "  </tbody>\n",
       "</table>\n",
       "</div>"
      ],
      "text/plain": [
       "                  prenomNom  revenuFinal\n",
       "0  Bernard Arnault & family       211000\n",
       "1                 Elon Musk       180000\n",
       "2                Jeff Bezos       114000\n",
       "3             Larry Ellison       107000\n",
       "4            Warren Buffett       106000"
      ]
     },
     "execution_count": 42,
     "metadata": {},
     "output_type": "execute_result"
    }
   ],
   "source": [
    "dataset[['prenomNom','revenuFinal']].head()"
   ]
  },
  {
   "cell_type": "code",
   "execution_count": null,
   "id": "05a4520a",
   "metadata": {},
   "outputs": [],
   "source": []
  },
  {
   "cell_type": "code",
   "execution_count": null,
   "id": "71acbc31",
   "metadata": {},
   "outputs": [],
   "source": []
  },
  {
   "cell_type": "code",
   "execution_count": null,
   "id": "32377583",
   "metadata": {},
   "outputs": [],
   "source": []
  },
  {
   "cell_type": "code",
   "execution_count": null,
   "id": "5d0a1fc2",
   "metadata": {},
   "outputs": [],
   "source": []
  }
 ],
 "metadata": {
  "kernelspec": {
   "display_name": "Python 3 (ipykernel)",
   "language": "python",
   "name": "python3"
  },
  "language_info": {
   "codemirror_mode": {
    "name": "ipython",
    "version": 3
   },
   "file_extension": ".py",
   "mimetype": "text/x-python",
   "name": "python",
   "nbconvert_exporter": "python",
   "pygments_lexer": "ipython3",
   "version": "3.11.4"
  }
 },
 "nbformat": 4,
 "nbformat_minor": 5
}
